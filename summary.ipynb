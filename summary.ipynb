{
 "cells": [
  {
   "cell_type": "code",
   "execution_count": 2,
   "metadata": {
    "collapsed": true
   },
   "outputs": [],
   "source": [
    "import os\n",
    "from nltk import word_tokenize\n",
    "from nltk.corpus import stopwords\n",
    "import glob\n",
    "from sklearn.feature_extraction.text import CountVectorizer\n",
    "vectorizer = CountVectorizer()\n",
    "import io\n",
    "import itertools\n",
    "import networkx as nx\n",
    "import nltk\n",
    "import math"
   ]
  },
  {
   "cell_type": "code",
   "execution_count": 3,
   "metadata": {
    "collapsed": false
   },
   "outputs": [],
   "source": [
    "from nltk import word_tokenize, pos_tag\n",
    "from nltk.corpus import wordnet as wn\n",
    " \n",
    "def penn_to_wn(tag):\n",
    "    \"\"\" Convert between a Penn Treebank tag to a simplified Wordnet tag \"\"\"\n",
    "    if tag.startswith('N'):\n",
    "        return 'n'\n",
    " \n",
    "    if tag.startswith('V'):\n",
    "        return 'v'\n",
    " \n",
    "    if tag.startswith('J'):\n",
    "        return 'a'\n",
    " \n",
    "    if tag.startswith('R'):\n",
    "        return 'r'\n",
    " \n",
    "    return None\n",
    " \n",
    "def tagged_to_synset(word, tag):\n",
    "    wn_tag = penn_to_wn(tag)\n",
    "    if wn_tag is None:\n",
    "        return None\n",
    " \n",
    "    try:\n",
    "        return wn.synsets(word, wn_tag)[0]\n",
    "    except:\n",
    "        return None\n",
    " \n",
    "\n"
   ]
  },
  {
   "cell_type": "code",
   "execution_count": 4,
   "metadata": {
    "collapsed": true
   },
   "outputs": [],
   "source": [
    "def levenshtein_distance(first, second):\n",
    "    \"\"\"Return the Levenshtein distance between two strings.\n",
    "    Based on:\n",
    "        http://rosettacode.org/wiki/Levenshtein_distance#Python\n",
    "    \"\"\"\n",
    "    if len(first) > len(second):\n",
    "        first, second = second, first\n",
    "    distances = range(len(first) + 1)\n",
    "    for index2, char2 in enumerate(second):\n",
    "        new_distances = [index2 + 1]\n",
    "        for index1, char1 in enumerate(first):\n",
    "            if char1 == char2:\n",
    "                new_distances.append(distances[index1])\n",
    "            else:\n",
    "                new_distances.append(1 + min((distances[index1],\n",
    "                                             distances[index1 + 1],\n",
    "                                             new_distances[-1])))\n",
    "        distances = new_distances\n",
    "    return distances[-1]\n",
    "\n"
   ]
  },
  {
   "cell_type": "code",
   "execution_count": 5,
   "metadata": {
    "collapsed": false
   },
   "outputs": [
    {
     "ename": "SyntaxError",
     "evalue": "invalid syntax (<ipython-input-5-0be236b2f0a3>, line 30)",
     "output_type": "error",
     "traceback": [
      "\u001b[1;36m  File \u001b[1;32m\"<ipython-input-5-0be236b2f0a3>\"\u001b[1;36m, line \u001b[1;32m30\u001b[0m\n\u001b[1;33m    if score is Not None:\u001b[0m\n\u001b[1;37m                       ^\u001b[0m\n\u001b[1;31mSyntaxError\u001b[0m\u001b[1;31m:\u001b[0m invalid syntax\n"
     ]
    }
   ],
   "source": [
    "def sentence_similarity(sentence1, sentence2):\n",
    "    \"\"\" compute the sentence similarity using Wordnet \"\"\"\n",
    "    # Tokenize and tag\n",
    "    sentence1 = pos_tag(word_tokenize(sentence1))\n",
    "    sentence2 = pos_tag(word_tokenize(sentence2))\n",
    " \n",
    "    # Get the synsets for the tagged words\n",
    "    synsets1 = [tagged_to_synset(*tagged_word) for tagged_word in sentence1]\n",
    "    synsets2 = [tagged_to_synset(*tagged_word) for tagged_word in sentence2]\n",
    " \n",
    "    # Filter out the Nones\n",
    "    synsets1 = [ss for ss in synsets1 if ss]\n",
    "    synsets2 = [ss for ss in synsets2 if ss]\n",
    " \n",
    "    score, count = 0.1, 0\n",
    "    \n",
    "    # For each word in the first sentence\n",
    "    for synset in synsets1:\n",
    "        # Get the similarity value of the most similar word in the other sentence\n",
    "       \n",
    "        for ss in synsets2:\n",
    "            best_score=max(score,synset.path_similarity(ss))\n",
    "        # Check that the similarity could have been computed\n",
    "            if best_score is not None:\n",
    "                score += best_score\n",
    "                count += 1\n",
    " \n",
    "    # Average the values\n",
    "    score /= count\n",
    "    if score is Not None:\n",
    "        return score\n",
    "    else:\n",
    "        return 0.0\n",
    "        \n"
   ]
  },
  {
   "cell_type": "code",
   "execution_count": 31,
   "metadata": {
    "collapsed": false
   },
   "outputs": [
    {
     "name": "stdout",
     "output_type": "stream",
     "text": [
      "[\"almost all of us use an antivirus on our laptop or pc. and why not? with the number of attack happen everi day, like the recent wannacri ransomware, it is logic to do so. but phone and laptop are different, right? do the antivirus work on these too? let get direct to the point. the answer is no. you do not need an anti-virus applic to keep you secure. the anti-virus of your system is you. if you ask me which softwar do i use? i use my brain. that is the best line of secur in today times. android os(a major of the user are concern about android) is base on the linux kernel. it is not very easi for an applic to affect your device. there are tip you need to keep in mind and there you go- safe and secure. googl play store has a multipl line of secur check before an applic even debut on the store. so the chanc of a malici app make to the app store is neglig and by any means, if the applic does reach the app store, googl keep a track and will take down the app as soon as possible. even if you becom one of the unlucki peopl to have download the application, you will be alerted. if you are download the applic from the offici store, you are most probabl secure. if you need to download an applic that does not exist in the play store, tri to go for the reput app store like amazon app store or apkmirror, otherwise, avoid download it and look for better alternatives. you might have seen a lot of pop-up say that your phone is insecure, slow, blah-blah-blah, ignor it. simpl as that. if at all, you accident click and someth got downloaded, do not instal it. your phone will not get affect by a third-parti applic unless installed. permissions- there are a lot of permiss that an applic ask before it get installed. do read it. it is realli important. keep a check on the rate and review of the app. it say a lot about it. for more detail on android permissions, check here. keep your phone updated. self-explanatory. so why are there so mani anti-virus applic in the app store? brute-forc marketing. the smartphon market is a very big market and anti-virus are a grey area. so, why not use a familiar concept, and push it down here? trust me, if they are installed, that just a chunk of memori wast off your phone. all the differ 100 notif that you get about the phone being slow and affect by threats, they are most useless. most of them perform function as junk delet and ram clearing. they are just to scare you. as soon as you enter the world of internet, you are a suscept target and the best line of secur is you. as long as you keep the tip in mind, no one can touch you (virtually). as for the antivirus apps, there is realli no need to have them installed. nevertheless, if you still opt to instal one, do not buy a paid one. a free altern will do the same trick (ps- don't).\"]\n",
      "Almost all of us use an antivirus on our laptop or PC. And why not? With the numbers of attacks happening every day, like the recent Wannacry Ransomware, it is logical to do so. \n",
      "But phones and laptops are different, right? Do the antiviruses work on these too? Let's get directly to the point.\n",
      "\n",
      "The answer is 'NO.' You do not need an anti-virus application to keep you secure. The anti-virus of your system is YOU. If you ask me which software do I use? I use my brain. That is the best line of security in today's times.\n",
      "\n",
      "Android OS(As majority of the users are concerned about Android) is based on the Linux Kernel. It is not very easy for an application to affect your device. There are tips you need to keep in mind and there you go- Safe and Secure.\n",
      "\n",
      "Google Play Store has a multiple line of security checks before an application even debuts on the Store. So the chance of a malicious app making to the app store is negligible and by any means, if the application does reach the app store, Google keeps a track and will take down the app as soon as possible. Even if you become one of the unlucky people to have downloaded the application, you will be alerted.\n",
      "If you are downloading the application from the official store, you are most probably secure. If you need to download an application that does not exist in the Play Store, try to go for the reputed App stores like Amazon App Store or APKMirror, otherwise, avoid downloading it and look for better alternatives.\n",
      "You might have seen a lot of pop-ups saying that your phone is insecure, slow, blah-blah-blah, IGNORE it. Simple as that. If at all, you accidentally clicked and something got downloaded, do not install it. Your phone will not get affected by a third-party application unless installed.\n",
      "Permissions- There are a lot of permissions that an application asks before it gets installed. DO READ IT. It is really important. Keep a check on the ratings and reviews of the app. It says a lot about it. For more details on Android Permissions, check here.\n",
      "KEEP YOUR PHONE UPDATED. Self-explanatory.\n",
      "So why are there so many anti-virus applications in the App Store?\n",
      "BRUTE-FORCE marketing. The smartphone market is a very big market and Anti-Viruses are a grey area. So, why not use a familiar concept, and push it down here? Trust me, if they are installed, that's just a chunk of memory wasted off your phone. All the different 100 notifications that you get about the phone being slow and affected by threats, they are mostly useless. Most of them perform functions as junk deletion and RAM clearing. They are just to SCARE you.\n",
      "As soon as you enter the world of Internet, YOU are a susceptible target and the best line of security is YOU. As long as you keep the tips in mind, no one can touch you (virtually). As for the antivirus apps, there is really no need to have them installed. Nevertheless, if you still opt to install one, do not buy a paid one. A free alternative will do the same trick (PS- Don't).\n"
     ]
    }
   ],
   "source": [
    "f= open('Article.txt', \"r\")\n",
    "\n",
    "all_text = f.read()\n",
    "temp=[]\n",
    "from nltk.stem.snowball import SnowballStemmer\n",
    "stemmer = SnowballStemmer(\"english\",ignore_stopwords = True)\n",
    "words = all_text.split()\n",
    "words1 = []\n",
    "for i in range(len(words)):\n",
    "    words1.append(stemmer.stem(words[i]))\n",
    "afterstem = \" \".join(words1)\n",
    "temp.append(afterstem)\n",
    "print(temp)\n",
    "str = ''.join(temp)\n",
    "str=''.join(all_text)\n",
    "print(str)"
   ]
  },
  {
   "cell_type": "code",
   "execution_count": 32,
   "metadata": {
    "collapsed": true
   },
   "outputs": [],
   "source": [
    "def build_graph(nodes):\n",
    "    \"\"\"Return a networkx graph instance.\n",
    "    :param nodes: List of hashables that represent the nodes of a graph.\n",
    "    \"\"\"\n",
    "    gr = nx.Graph()  # initialize an undirected graph\n",
    "    gr.add_nodes_from(nodes)\n",
    "    nodePairs = list(itertools.combinations(nodes, 2))\n",
    "\n",
    "    # add edges to the graph (weighted by Levenshtein distance)\n",
    "    for pair in nodePairs:\n",
    "        firstString = pair[0]\n",
    "        secondString = pair[1]\n",
    "        levDistance = levenshtein_distance(firstString, secondString)\n",
    "        \n",
    "        WNScore=sen(firstString, secondString)\n",
    "        \n",
    "        Distance=(levDistance+WNScore)/2.0\n",
    "        gr.add_edge(firstString, secondString, weight=Distance)\n",
    "\n",
    "    return gr"
   ]
  },
  {
   "cell_type": "code",
   "execution_count": 33,
   "metadata": {
    "collapsed": true
   },
   "outputs": [],
   "source": [
    "from nltk.corpus import wordnet\n",
    "def sen(first,second):\n",
    "    score, count = 0.0,0\n",
    "    for word in first:\n",
    "        for each in second:\n",
    "            x=wordnet.synsets(word)[0]\n",
    "            y=wordnet.synsets(each)[0]\n",
    "            if(x and y):\n",
    "                score+=x.wup_similarity(y)\n",
    "                count+=1\n",
    "                return score/count\n",
    "            else:\n",
    "                return 0"
   ]
  },
  {
   "cell_type": "code",
   "execution_count": 107,
   "metadata": {
    "collapsed": false
   },
   "outputs": [],
   "source": [
    "def extract_sentences(text,l):\n",
    "    \n",
    "    sent_detector = nltk.data.load('tokenizers/punkt/english.pickle')\n",
    "    sentence_tokens = sent_detector.tokenize(text.strip())\n",
    "    graph = build_graph(sentence_tokens)\n",
    "    calculated_page_rank = nx.pagerank(graph, weight='weight')\n",
    "    \n",
    "    # most important sentences in ascending order of importance\n",
    "    sentences = sorted(calculated_page_rank, key=calculated_page_rank.get,\n",
    "                       reverse=True)\n",
    "    l=int(l)\n",
    "    # return a 100 word summary\n",
    "    summary = ' '.join(sentences)\n",
    "    summary_words = summary.split()\n",
    "    \n",
    "    summary_words = summary_words[0:l]\n",
    "    \n",
    "    summary = ' '.join(summary_words)\n",
    "\n",
    "    return summary\n"
   ]
  },
  {
   "cell_type": "code",
   "execution_count": 121,
   "metadata": {
    "collapsed": true
   },
   "outputs": [],
   "source": [
    "from nltk import tokenize\n",
    "def extract_sentences1(text,l):\n",
    "    \n",
    "    sent_detector = nltk.data.load('tokenizers/punkt/english.pickle')\n",
    "    sentence_tokens = sent_detector.tokenize(text.strip())\n",
    "    graph = build_graph(sentence_tokens)\n",
    "    calculated_page_rank = nx.pagerank(graph, weight='weight')\n",
    "    \n",
    "    # most important sentences in ascending order of importance\n",
    "    sentences = sorted(calculated_page_rank, key=calculated_page_rank.get,\n",
    "                       reverse=True)\n",
    "    l=int(l)\n",
    "    # return a 100 word summary\n",
    "    summary = ' '.join(sentences)\n",
    "    \n",
    "    x=tokenize.sent_tokenize(summary)\n",
    "    x=x[0:3]\n",
    "    x=x[:-1]\n",
    "    print(x)\n",
    "   \n",
    "\n",
    "    summary = ' '.join(x)\n",
    "\n",
    "    return summary\n"
   ]
  },
  {
   "cell_type": "code",
   "execution_count": 122,
   "metadata": {
    "collapsed": false
   },
   "outputs": [
    {
     "name": "stdout",
     "output_type": "stream",
     "text": [
      "['If you need to download an application that does not exist in the Play Store, try to go for the reputed App stores like Amazon App Store or APKMirror, otherwise, avoid downloading it and look for better alternatives.', 'So the chance of a malicious app making to the app store is negligible and by any means, if the application does reach the app store, Google keeps a track and will take down the app as soon as possible.']\n",
      "If you need to download an application that does not exist in the Play Store, try to go for the reputed App stores like Amazon App Store or APKMirror, otherwise, avoid downloading it and look for better alternatives. So the chance of a malicious app making to the app store is negligible and by any means, if the application does reach the app store, Google keeps a track and will take down the app as soon as possible.\n"
     ]
    }
   ],
   "source": [
    "import re\n",
    "count=len(re.findall(r'\\w+', str))\n",
    "count=int(count/3)\n",
    "for each in range(len(str)-count):\n",
    "    if str[count+each] is '.':\n",
    "        break\n",
    "\n",
    "summary = extract_sentences1(str,count)\n",
    "print(summary)    "
   ]
  },
  {
   "cell_type": "code",
   "execution_count": 102,
   "metadata": {
    "collapsed": false
   },
   "outputs": [
    {
     "name": "stdout",
     "output_type": "stream",
     "text": [
      "11\n"
     ]
    }
   ],
   "source": [
    "import re\n",
    "line = \" I am having a very nice day helo hoealek keawo;ea.\"\n",
    "count = len(re.findall(r'\\w+', line))\n",
    "print (count)"
   ]
  },
  {
   "cell_type": "code",
   "execution_count": null,
   "metadata": {
    "collapsed": true
   },
   "outputs": [],
   "source": []
  }
 ],
 "metadata": {
  "anaconda-cloud": {},
  "kernelspec": {
   "display_name": "Python [Root]",
   "language": "python",
   "name": "Python [Root]"
  },
  "language_info": {
   "codemirror_mode": {
    "name": "ipython",
    "version": 3
   },
   "file_extension": ".py",
   "mimetype": "text/x-python",
   "name": "python",
   "nbconvert_exporter": "python",
   "pygments_lexer": "ipython3",
   "version": "3.5.4"
  }
 },
 "nbformat": 4,
 "nbformat_minor": 0
}
